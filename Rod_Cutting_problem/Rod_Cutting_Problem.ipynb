{
  "nbformat": 4,
  "nbformat_minor": 0,
  "metadata": {
    "colab": {
      "provenance": []
    },
    "kernelspec": {
      "name": "python3",
      "display_name": "Python 3"
    },
    "language_info": {
      "name": "python"
    }
  },
  "cells": [
    {
      "cell_type": "code",
      "source": [
        "from google.colab import drive\n",
        "drive.mount('/content/drive')"
      ],
      "metadata": {
        "colab": {
          "base_uri": "https://localhost:8080/"
        },
        "id": "r99CzqltiFJv",
        "outputId": "6ce82b61-800a-47d8-a132-eaa87a6767d8"
      },
      "execution_count": null,
      "outputs": [
        {
          "output_type": "stream",
          "name": "stdout",
          "text": [
            "Drive already mounted at /content/drive; to attempt to forcibly remount, call drive.mount(\"/content/drive\", force_remount=True).\n"
          ]
        }
      ]
    },
    {
      "cell_type": "code",
      "source": [
        "import random\n",
        "import time\n",
        "import matplotlib.pyplot as plt"
      ],
      "metadata": {
        "id": "PL1B6fYCiYRD"
      },
      "execution_count": null,
      "outputs": []
    },
    {
      "cell_type": "markdown",
      "source": [
        "# Recursive top-down **approach**"
      ],
      "metadata": {
        "id": "xcWvZLO9kiCT"
      }
    },
    {
      "cell_type": "code",
      "source": [
        "def recursive(p, num):\n",
        "    maximum_revenue = [0] * (num + 1)\n",
        "    cuts = [0] * (num + 1)\n",
        "\n",
        "    def cut_rod(num):\n",
        "        if num == 0:\n",
        "            return 0\n",
        "        if maximum_revenue[num] > 0:\n",
        "            return maximum_revenue[num]\n",
        "        q = float('-inf')\n",
        "        for i in range(1, min(num + 1, len(p))):\n",
        "            if p[i - 1] + cut_rod(num - i) > q:\n",
        "                q = p[i - 1] + cut_rod(num - i)\n",
        "                cuts[num] = i\n",
        "        maximum_revenue[num] = q\n",
        "        return q\n",
        "\n",
        "    maximum_revenue_value = cut_rod(num)\n",
        "\n",
        "    # Reconstruct optimal cuts\n",
        "    cut_lengths = []\n",
        "    while num > 0:\n",
        "        cut_lengths.append(cuts[num])\n",
        "        num -= cuts[num]\n",
        "\n",
        "    return maximum_revenue_value, cut_lengths"
      ],
      "metadata": {
        "id": "kEVkg9tphjxQ"
      },
      "execution_count": null,
      "outputs": []
    },
    {
      "cell_type": "markdown",
      "source": [
        "# Dynamic Programming Extended-Bottom-Up **approach**"
      ],
      "metadata": {
        "id": "y5vvOlPokqAK"
      }
    },
    {
      "cell_type": "code",
      "source": [
        "def dynamic(p, num):\n",
        "    r = [0] * (num + 1)\n",
        "    s = [0] * (num + 1)\n",
        "    for j in range(1, num + 1):\n",
        "        q = float('-inf')\n",
        "        for i in range(1, j + 1):\n",
        "            if p[i - 1] + r[j - i] > q:\n",
        "                q = p[i - 1] + r[j - i]\n",
        "                s[j] = i\n",
        "        r[j] = q\n",
        "    cuts = []\n",
        "    while num > 0:\n",
        "        cuts.append(s[num])\n",
        "        num -= s[num]\n",
        "    return r[-1], cuts"
      ],
      "metadata": {
        "id": "ciGeNZ5Wk53Y"
      },
      "execution_count": null,
      "outputs": []
    },
    {
      "cell_type": "markdown",
      "source": [
        "# Memoized **Approach**"
      ],
      "metadata": {
        "id": "TpQtbyNGlCzB"
      }
    },
    {
      "cell_type": "code",
      "source": [
        "def memoized(p, num):\n",
        "    memo = [[-1, []] for _ in range(num + 1)]\n",
        "\n",
        "    def memoized_cut_rod(num):\n",
        "        if memo[num][0] >= 0:\n",
        "            return memo[num]\n",
        "        if num == 0:\n",
        "            memo[num] = [0, []]\n",
        "        else:\n",
        "            q = float('-inf')\n",
        "            cut_configuration = []\n",
        "            for i in range(1, num + 1):\n",
        "                sub_result, sub_cut = memoized_cut_rod(num - i)\n",
        "                if p[i - 1] + sub_result > q:\n",
        "                    q = p[i - 1] + sub_result\n",
        "                    cut_configuration = [i] + sub_cut\n",
        "            memo[num] = [q, cut_configuration]\n",
        "        return memo[num]\n",
        "\n",
        "    maximum_revenue, cuts = memoized_cut_rod(num)\n",
        "    return maximum_revenue, cuts"
      ],
      "metadata": {
        "id": "dGGJJ4b-lVGX"
      },
      "execution_count": null,
      "outputs": []
    },
    {
      "cell_type": "markdown",
      "source": [
        "calling the algorithms\n"
      ],
      "metadata": {
        "id": "cNvvg29vo8xY"
      }
    },
    {
      "cell_type": "code",
      "source": [
        "def algorithms(prices, num):\n",
        "\n",
        "    print(\"Recursive top-down approach:\")\n",
        "    start_time = time.time()\n",
        "    maximum_revenue, cuts = recursive(prices, num)\n",
        "    print(f\"Rod length: {num}\")\n",
        "    print(\"\\tMaximum revenue:\", maximum_revenue)\n",
        "    print(\"\\tOptimal cuts:\", cuts)\n",
        "    recursive_timetaken = time.time() - start_time\n",
        "    print(\"\\tExecution time:\", recursive_timetaken)\n",
        "\n",
        "    print(\"\\nMemoized Approach with memoization:\")\n",
        "    start_time = time.time()\n",
        "    maximum_revenue, cuts = memoized(prices, num)\n",
        "    print(f\"Rod length: {num}\")\n",
        "    print(\"\\tMaximum revenue:\", maximum_revenue)\n",
        "    print(\"\\tOptimal cuts:\", cuts)\n",
        "    memoized_timetaken = time.time() - start_time\n",
        "    print(\"\\tExecution time:\", memoized_timetaken)\n",
        "\n",
        "    print(\"\\nDynamic Programming Extended-Bottom-Up approach:\")\n",
        "    start_time = time.time()\n",
        "    maximum_revenue, cuts = dynamic(prices, num)\n",
        "    print(f\"Rod length: {num}\")\n",
        "    print(\"\\tMaximum revenue:\", maximum_revenue)\n",
        "    print(\"\\tOptimal cuts:\", cuts)\n",
        "    dynamic_timetaken = time.time() - start_time\n",
        "    print(\"\\tExecution time:\", dynamic_timetaken)\n",
        "    print(\"\\n\")\n",
        "    return recursive_timetaken, dynamic_timetaken, memoized_timetaken"
      ],
      "metadata": {
        "id": "ILHCIO6fm3zU"
      },
      "execution_count": null,
      "outputs": []
    },
    {
      "cell_type": "markdown",
      "source": [
        "generating the price5.txt,price10.txt,price20.txt,price30.txt files\n"
      ],
      "metadata": {
        "id": "AIIjn0bVpF0d"
      }
    },
    {
      "cell_type": "code",
      "source": [
        "# generating the prices\n",
        "def pricearray(n):\n",
        "    random.seed(21)\n",
        "    prices = []\n",
        "    for _ in range(n):\n",
        "        prices.append(random.randint(1, 30))\n",
        "    return prices\n",
        "\n",
        "# writing the prices to the file\n",
        "def pricefiles(i,prices):\n",
        "    file=open(f'/content/drive/MyDrive/Colab Notebooks/price{i}.txt','w')\n",
        "    file.write(f\"Rod Length: {i}\\n\\n\")\n",
        "    for p in prices:\n",
        "      file.write(f\"{p}\\n\")\n"
      ],
      "metadata": {
        "id": "PgIsPXMCjHZ5"
      },
      "execution_count": null,
      "outputs": []
    },
    {
      "cell_type": "markdown",
      "source": [
        "**Main()**"
      ],
      "metadata": {
        "id": "pWWCw-eSpPKc"
      }
    },
    {
      "cell_type": "code",
      "source": [
        "recursive_times = []\n",
        "dynamic_times = []\n",
        "memoized_times = []\n",
        "\n",
        "rod_lengths = [5, 10, 20, 30]\n",
        "for n in rod_lengths:\n",
        "    prices = pricearray(n)\n",
        "    pricefiles(n,prices)\n",
        "    recursive_time ,dynamic_time, memoized_time = algorithms(prices, n)\n",
        "    recursive_times.append(recursive_time)\n",
        "    dynamic_times.append(dynamic_time)\n",
        "    memoized_times.append(memoized_time)\n"
      ],
      "metadata": {
        "colab": {
          "base_uri": "https://localhost:8080/"
        },
        "id": "qoZp7Kut60Rw",
        "outputId": "70e9d7b0-1f83-42c3-f7f3-919e64456db1"
      },
      "execution_count": null,
      "outputs": [
        {
          "output_type": "stream",
          "name": "stdout",
          "text": [
            "Recursive top-down approach:\n",
            "Rod length: 5\n",
            "\tMaximum revenue: 37\n",
            "\tOptimal cuts: [2, 3]\n",
            "\tExecution time: 0.0015826225280761719\n",
            "\n",
            "Memoized Approach with memoization:\n",
            "Rod length: 5\n",
            "\tMaximum revenue: 37\n",
            "\tOptimal cuts: [2, 3]\n",
            "\tExecution time: 0.00014328956604003906\n",
            "\n",
            "Dynamic Programming Extended-Bottom-Up approach:\n",
            "Rod length: 5\n",
            "\tMaximum revenue: 37\n",
            "\tOptimal cuts: [2, 3]\n",
            "\tExecution time: 0.0001327991485595703\n",
            "\n",
            "\n",
            "Recursive top-down approach:\n",
            "Rod length: 10\n",
            "\tMaximum revenue: 75\n",
            "\tOptimal cuts: [1, 3, 3, 3]\n",
            "\tExecution time: 0.00025844573974609375\n",
            "\n",
            "Memoized Approach with memoization:\n",
            "Rod length: 10\n",
            "\tMaximum revenue: 75\n",
            "\tOptimal cuts: [1, 3, 3, 3]\n",
            "\tExecution time: 0.00017213821411132812\n",
            "\n",
            "Dynamic Programming Extended-Bottom-Up approach:\n",
            "Rod length: 10\n",
            "\tMaximum revenue: 75\n",
            "\tOptimal cuts: [1, 3, 3, 3]\n",
            "\tExecution time: 0.0001289844512939453\n",
            "\n",
            "\n",
            "Recursive top-down approach:\n",
            "Rod length: 20\n",
            "\tMaximum revenue: 152\n",
            "\tOptimal cuts: [2, 3, 3, 3, 3, 3, 3]\n",
            "\tExecution time: 0.0004317760467529297\n",
            "\n",
            "Memoized Approach with memoization:\n",
            "Rod length: 20\n",
            "\tMaximum revenue: 152\n",
            "\tOptimal cuts: [2, 3, 3, 3, 3, 3, 3]\n",
            "\tExecution time: 0.0002753734588623047\n",
            "\n",
            "Dynamic Programming Extended-Bottom-Up approach:\n",
            "Rod length: 20\n",
            "\tMaximum revenue: 152\n",
            "\tOptimal cuts: [2, 3, 3, 3, 3, 3, 3]\n",
            "\tExecution time: 0.00023865699768066406\n",
            "\n",
            "\n",
            "Recursive top-down approach:\n",
            "Rod length: 30\n",
            "\tMaximum revenue: 230\n",
            "\tOptimal cuts: [3, 3, 3, 3, 3, 3, 3, 3, 3, 3]\n",
            "\tExecution time: 0.0004992485046386719\n",
            "\n",
            "Memoized Approach with memoization:\n",
            "Rod length: 30\n",
            "\tMaximum revenue: 230\n",
            "\tOptimal cuts: [3, 3, 3, 3, 3, 3, 3, 3, 3, 3]\n",
            "\tExecution time: 0.0003910064697265625\n",
            "\n",
            "Dynamic Programming Extended-Bottom-Up approach:\n",
            "Rod length: 30\n",
            "\tMaximum revenue: 230\n",
            "\tOptimal cuts: [3, 3, 3, 3, 3, 3, 3, 3, 3, 3]\n",
            "\tExecution time: 0.0002467632293701172\n",
            "\n",
            "\n"
          ]
        }
      ]
    },
    {
      "cell_type": "markdown",
      "source": [
        "# Line graph"
      ],
      "metadata": {
        "id": "XEsmK8hA5HA_"
      }
    },
    {
      "source": [
        "\n",
        "plt.plot(rod_lengths, recursive_times, label='Recursive')\n",
        "plt.plot(rod_lengths, dynamic_times, label='Dynamic Programming')\n",
        "plt.plot(rod_lengths, memoized_times, label='Memoized Approach')\n",
        "\n",
        "plt.xlabel('Rod Length')\n",
        "plt.ylabel('Time Taken (s)')\n",
        "plt.title('Time Taken by Algorithms for Different Rod Lengths')\n",
        "plt.legend()\n",
        "plt.grid(True)\n",
        "plt.show()\n"
      ],
      "cell_type": "code",
      "metadata": {
        "colab": {
          "base_uri": "https://localhost:8080/",
          "height": 472
        },
        "id": "oZHYSfgZjErM",
        "outputId": "58686cb5-4144-41a0-a05f-914993e41c10"
      },
      "execution_count": null,
      "outputs": [
        {
          "output_type": "display_data",
          "data": {
            "text/plain": [
              "<Figure size 640x480 with 1 Axes>"
            ],
            "image/png": "[encoded data removed]"
          },
          "metadata": {}
        }
      ]
    },
    {
      "cell_type": "code",
      "source": [
        "## Additional information (verification)\n",
        "## if we consider our  last two digits of uta Id's the radomly generated price for cutting the 1unit length rod is high. so we will have the\n",
        "## optimal cut as [1,1,1,..rod-length] for producing maxmium revenue.\n",
        "## For proper verification we have took seed value as '21' in above code rather than our uta id's '12 or 10'\n",
        "def pricearray(n):\n",
        "    random.seed(10) ##took seed value as  last two digits of UTA ID\n",
        "    prices = []\n",
        "    for _ in range(n):\n",
        "        prices.append(random.randint(1, 30))\n",
        "    return prices\n",
        "rod_lengths = [5, 10, 20, 30]\n",
        "for n in rod_lengths:\n",
        "    prices = pricearray(n)\n",
        "    print(prices)\n",
        "    algorithms(prices, n)\n"
      ],
      "metadata": {
        "id": "sNI_So-piRqD",
        "colab": {
          "base_uri": "https://localhost:8080/"
        },
        "outputId": "6a708ec1-0abd-44b9-836d-110db22fa295"
      },
      "execution_count": 12,
      "outputs": [
        {
          "output_type": "stream",
          "name": "stdout",
          "text": [
            "[19, 2, 14, 16, 19]\n",
            "Recursive top-down approach:\n",
            "Rod length: 5\n",
            "\tMaximum revenue: 95\n",
            "\tOptimal cuts: [1, 1, 1, 1, 1]\n",
            "\tExecution time: 0.00395655632019043\n",
            "\n",
            "Memoized Approach with memoization:\n",
            "Rod length: 5\n",
            "\tMaximum revenue: 95\n",
            "\tOptimal cuts: [1, 1, 1, 1, 1]\n",
            "\tExecution time: 0.00012159347534179688\n",
            "\n",
            "Dynamic Programming Extended-Bottom-Up approach:\n",
            "Rod length: 5\n",
            "\tMaximum revenue: 95\n",
            "\tOptimal cuts: [1, 1, 1, 1, 1]\n",
            "\tExecution time: 9.965896606445312e-05\n",
            "\n",
            "\n",
            "[19, 2, 14, 16, 19, 1, 7, 15, 27, 16]\n",
            "Recursive top-down approach:\n",
            "Rod length: 10\n",
            "\tMaximum revenue: 190\n",
            "\tOptimal cuts: [1, 1, 1, 1, 1, 1, 1, 1, 1, 1]\n",
            "\tExecution time: 0.0001304149627685547\n",
            "\n",
            "Memoized Approach with memoization:\n",
            "Rod length: 10\n",
            "\tMaximum revenue: 190\n",
            "\tOptimal cuts: [1, 1, 1, 1, 1, 1, 1, 1, 1, 1]\n",
            "\tExecution time: 0.00015616416931152344\n",
            "\n",
            "Dynamic Programming Extended-Bottom-Up approach:\n",
            "Rod length: 10\n",
            "\tMaximum revenue: 190\n",
            "\tOptimal cuts: [1, 1, 1, 1, 1, 1, 1, 1, 1, 1]\n",
            "\tExecution time: 9.036064147949219e-05\n",
            "\n",
            "\n",
            "[19, 2, 14, 16, 19, 1, 7, 15, 27, 16, 27, 9, 21, 26, 6, 2, 17, 16, 11, 3]\n",
            "Recursive top-down approach:\n",
            "Rod length: 20\n",
            "\tMaximum revenue: 380\n",
            "\tOptimal cuts: [1, 1, 1, 1, 1, 1, 1, 1, 1, 1, 1, 1, 1, 1, 1, 1, 1, 1, 1, 1]\n",
            "\tExecution time: 0.0002193450927734375\n",
            "\n",
            "Memoized Approach with memoization:\n",
            "Rod length: 20\n",
            "\tMaximum revenue: 380\n",
            "\tOptimal cuts: [1, 1, 1, 1, 1, 1, 1, 1, 1, 1, 1, 1, 1, 1, 1, 1, 1, 1, 1, 1]\n",
            "\tExecution time: 0.000225067138671875\n",
            "\n",
            "Dynamic Programming Extended-Bottom-Up approach:\n",
            "Rod length: 20\n",
            "\tMaximum revenue: 380\n",
            "\tOptimal cuts: [1, 1, 1, 1, 1, 1, 1, 1, 1, 1, 1, 1, 1, 1, 1, 1, 1, 1, 1, 1]\n",
            "\tExecution time: 0.00020194053649902344\n",
            "\n",
            "\n",
            "[19, 2, 14, 16, 19, 1, 7, 15, 27, 16, 27, 9, 21, 26, 6, 2, 17, 16, 11, 3, 8, 24, 12, 2, 14, 28, 5, 20, 12, 13]\n",
            "Recursive top-down approach:\n",
            "Rod length: 30\n",
            "\tMaximum revenue: 570\n",
            "\tOptimal cuts: [1, 1, 1, 1, 1, 1, 1, 1, 1, 1, 1, 1, 1, 1, 1, 1, 1, 1, 1, 1, 1, 1, 1, 1, 1, 1, 1, 1, 1, 1]\n",
            "\tExecution time: 0.022309541702270508\n",
            "\n",
            "Memoized Approach with memoization:\n",
            "Rod length: 30\n",
            "\tMaximum revenue: 570\n",
            "\tOptimal cuts: [1, 1, 1, 1, 1, 1, 1, 1, 1, 1, 1, 1, 1, 1, 1, 1, 1, 1, 1, 1, 1, 1, 1, 1, 1, 1, 1, 1, 1, 1]\n",
            "\tExecution time: 0.0009949207305908203\n",
            "\n",
            "Dynamic Programming Extended-Bottom-Up approach:\n",
            "Rod length: 30\n",
            "\tMaximum revenue: 570\n",
            "\tOptimal cuts: [1, 1, 1, 1, 1, 1, 1, 1, 1, 1, 1, 1, 1, 1, 1, 1, 1, 1, 1, 1, 1, 1, 1, 1, 1, 1, 1, 1, 1, 1]\n",
            "\tExecution time: 0.0002276897430419922\n",
            "\n",
            "\n"
          ]
        }
      ]
    },
    {
      "cell_type": "code",
      "source": [],
      "metadata": {
        "id": "KKpttGRrmF6a"
      },
      "execution_count": null,
      "outputs": []
    }
  ]
}